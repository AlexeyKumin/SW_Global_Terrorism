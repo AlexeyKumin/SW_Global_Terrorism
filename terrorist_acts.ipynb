{
 "cells": [
  {
   "cell_type": "code",
   "execution_count": 435,
   "metadata": {},
   "outputs": [],
   "source": [
    "import numpy as np\n",
    "import pandas as pd\n",
    "import chardet\n",
    "from datetime import date\n",
    "from scipy.stats import norm\n",
    "from scipy.stats import chi2\n",
    "import matplotlib.pyplot as plt"
   ]
  },
  {
   "cell_type": "markdown",
   "metadata": {},
   "source": [
    "## 1. Чтение, обработка данных"
   ]
  },
  {
   "cell_type": "code",
   "execution_count": 436,
   "metadata": {},
   "outputs": [],
   "source": [
    "def compute_and_add_days(df, name):\n",
    "    df = df.reset_index(drop = True)\n",
    "    n_cols = df.shape[1]\n",
    "    n_rows = df.shape[0]\n",
    "    ret = df;\n",
    "    uncorrects = [[] , 0];\n",
    "    row_days = []\n",
    "    row0 = df.loc[0];\n",
    "    start = date(row0[0], row0[1], row0[2])\n",
    "    \n",
    "    for i in range(0, n_rows):   \n",
    "        row = ret.loc[i]\n",
    "        if ((row[2] < 1) or (row[2] > 31)): #or (row[1] < 1) or (row[1] > 12)):\n",
    "            ret = ret.drop(i, axis = 0)\n",
    "            continue \n",
    "            \n",
    "        curr = date(row[0], row[1], row[2])\n",
    "        row_days.append((curr - start).days)\n",
    "        \n",
    "    ret[name] = row_days\n",
    "    ret = ret.reset_index(drop = True)\n",
    "    ret = ret.sort_values(by=[name])\n",
    "    ret = ret.reset_index(drop=True)\n",
    "    return ret"
   ]
  },
  {
   "cell_type": "markdown",
   "metadata": {},
   "source": [
    "## 2. Разбиение данных на две выборки по времени и по колличеству заявок в промежутках времени"
   ]
  },
  {
   "cell_type": "code",
   "execution_count": 666,
   "metadata": {},
   "outputs": [],
   "source": [
    "def first_method_reduce(df, step):\n",
    "    n_cols = df.shape[1]\n",
    "    n_rows = df.shape[0]\n",
    "    \n",
    "    ret = []\n",
    "    i = 0\n",
    "    while (i < (n_rows - 1)):\n",
    "        row = [df.loc[i][n_cols - 1], i]\n",
    "        while ((df.loc[i + 1][n_cols - 1] - df.loc[i][n_cols - 1] <= step) and (i < (n_rows - 2))):\n",
    "            i += 1            \n",
    "        i += 1\n",
    "        ret.append([row[0], i - row[1]])\n",
    "    ret[-1][1] += 1\n",
    "    ret = np.array(ret)\n",
    "    return (ret)\n",
    "\n",
    "def second_method_reduce(df, step):\n",
    "    n_cols = df.shape[1]\n",
    "    n_rows = df.shape[0]\n",
    "    \n",
    "    ret = []\n",
    "    i = 0\n",
    "    while (i < (n_rows - 1)):\n",
    "        row = [df.loc[i][n_cols - 1], i]\n",
    "        while ((df.loc[i + 1][n_cols - 1] - row[0] < step) and (i < (n_rows - 2))):\n",
    "            i += 1            \n",
    "        i += 1\n",
    "        ret.append([row[0], i - row[1]])\n",
    "    ret[-1][1] += 1\n",
    "    ret = np.array(ret)\n",
    "    return (ret)\n",
    "\n",
    "def make_reduce(sample, method, step, country):\n",
    "    reduce = method(sample, step)\n",
    "    print(\"Reduce data for\", country, \"with days from start, shape: \" , len(reduce))\n",
    "    time_smp = np.diff(reduce[:,0])\n",
    "    requests_smp = reduce[:, 1]\n",
    "    print(\"time intervals = \")\n",
    "    print(time_smp)\n",
    "    print(\"requests = \")\n",
    "    print(requests_smp)\n",
    "    return time_smp, requests_smp"
   ]
  },
  {
   "cell_type": "markdown",
   "metadata": {},
   "source": [
    "## 3. Проверка независимости случайных величин в выборках с помощью критерия Валлиса - Мура"
   ]
  },
  {
   "cell_type": "code",
   "execution_count": 916,
   "metadata": {},
   "outputs": [],
   "source": [
    "def num_sign_changes(arr):\n",
    "    i = 0\n",
    "    sign = arr[0]\n",
    "    count = 0\n",
    "    while i < len(arr) - 1:\n",
    "        if arr[i] != 0:\n",
    "            if sign == 0:\n",
    "                sign = arr[i]\n",
    "            elif sign != arr[i]:\n",
    "                count += 1\n",
    "                sign = arr[i]\n",
    "        i +=1\n",
    "    return count\n",
    "\n",
    "def Wallis_Murr_number(sample):\n",
    "    sample_diff = np.diff(sample)\n",
    "    gamma = num_sign_changes(np.sign(sample_diff)) - 2\n",
    "    n = len(sample)\n",
    "    return np.abs((gamma - (2*n - 7)/3)*np.sqrt(90/ (16*n - 29))) \n",
    "\n",
    "def Wallis_Murr_crit(sample, alfa, str):\n",
    "    Z1 = Wallis_Murr_number(sample)\n",
    "    f = norm(0, 1)\n",
    "    treshold_val = f.ppf(alfa/2)\n",
    "    if (Z1 <= -treshold_val):\n",
    "        print(str, \"is undependet\", round(Z1, 2), \" <= \", -round(treshold_val,2))\n",
    "    else:\n",
    "        print(str, \"is dependet\", round(Z1, 2), \" > \", -round(treshold_val, 2))\n",
    "        "
   ]
  },
  {
   "cell_type": "markdown",
   "metadata": {},
   "source": [
    "## 4. Оценка параметров распределения для выборки событий и критерий хи2"
   ]
  },
  {
   "cell_type": "code",
   "execution_count": 937,
   "metadata": {},
   "outputs": [],
   "source": [
    "def func_sum(inter, func):\n",
    "    sum = 0 \n",
    "    for i in np.arange(inter[0], inter[1] + 1): \n",
    "        sum += func(i)\n",
    "    return sum\n",
    "\n",
    "def divide_time(time, r, func):\n",
    "    tmp = np.bincount(time)\n",
    "    interv = len(time)//r\n",
    "    intervp = 1/r\n",
    "    m = np.zeros(r)\n",
    "    p = np.zeros(r)\n",
    "    j = 0\n",
    "    for i in range(0, r):\n",
    "        if (j < len(tmp)):\n",
    "            m[i] += tmp[j]\n",
    "            p[i] += func(j)\n",
    "            j += 1\n",
    "        while (p[i] < intervp) and (j < len(tmp)):\n",
    "            intervp = (1-sum(p))/(r - i)\n",
    "            m[i] += tmp[j]\n",
    "            p[i] += func(j)\n",
    "            j += 1\n",
    "    p[len(p) - 1] = 1 - sum(p[0:len(p) - 1])\n",
    "    return m, p\n",
    "\n",
    "def Chi_squre_number(m, p):\n",
    "    ret = 0\n",
    "    r = len(m)\n",
    "    n = np.sum(m)\n",
    "    for i in range(0, r):\n",
    "        ret += (m[i] - n*p[i])**2 / n*p[i]\n",
    "    return ret\n",
    "\n",
    "def Chi_2_crit(sample, r, P, alfa, num_param):\n",
    "    m, p = divide_time(sample, r, P)    \n",
    "    chi_stat = Chi_squre_number(m, p)\n",
    "    chi_2 = chi2(r - 1 - num_param)\n",
    "    print(\"Chi2 degree: \", r - 1 - num_param)\n",
    "    chi_2_tres1 = chi_2.ppf(1 - alfa)\n",
    "    print(\"Chi2 statistic:         \", round(chi_stat, 2))\n",
    "    print(\"Chi2 treshold val right:\", round(chi_2_tres1, 2))"
   ]
  },
  {
   "cell_type": "code",
   "execution_count": 984,
   "metadata": {},
   "outputs": [],
   "source": [
    "def plot_hist(sample, r_bound, P, ax, title, n=0):\n",
    "    x = np.arange(0, r_bound)\n",
    "    Fx = []\n",
    "    \n",
    "    for i in x:\n",
    "        Fx.append(P(i))\n",
    "    if (n == 0):\n",
    "        n = round(np.math.sqrt(len(sample)))\n",
    "\n",
    "    bins = np.linspace(sample.min(), r_bound, n) \n",
    "    ax.hist(sample, bins, density=1)\n",
    "    ax.plot(x, Fx, color=\"red\")\n",
    "    ax.legend([r'$f_\\xi(x)$', r'$histogram$'], fontsize=20)\n",
    "    ax.set_title(\"Hist Plot \" + title , fontsize = 15)\n",
    "    ax.grid()"
   ]
  },
  {
   "cell_type": "markdown",
   "metadata": {},
   "source": [
    "## 5. Оценка параметров распределения для выборки времени происшествия события относительно предыдущего события и критерий хи2"
   ]
  },
  {
   "cell_type": "code",
   "execution_count": 643,
   "metadata": {
    "scrolled": true
   },
   "outputs": [
    {
     "name": "stdout",
     "output_type": "stream",
     "text": [
      "Input data shape:  (181691, 135)\n"
     ]
    }
   ],
   "source": [
    "data = pd.read_csv('C:/Users/User/Desktop/Study/Scientific_work/globalterrorismdb_0718dist.csv', encoding='ISO-8859-1', low_memory=False)\n",
    "print(\"Input data shape: \" , data.shape)\n",
    "data = data.drop(data.iloc[:, 9:],  axis=1)\n",
    "data = data.drop(data.columns[[0, 4, 5, 6]], axis = 1)"
   ]
  },
  {
   "cell_type": "code",
   "execution_count": 644,
   "metadata": {
    "scrolled": true
   },
   "outputs": [
    {
     "name": "stdout",
     "output_type": "stream",
     "text": [
      "Data for Russia shape:  (2272, 5)\n"
     ]
    },
    {
     "data": {
      "text/html": [
       "<div>\n",
       "<style scoped>\n",
       "    .dataframe tbody tr th:only-of-type {\n",
       "        vertical-align: middle;\n",
       "    }\n",
       "\n",
       "    .dataframe tbody tr th {\n",
       "        vertical-align: top;\n",
       "    }\n",
       "\n",
       "    .dataframe thead th {\n",
       "        text-align: right;\n",
       "    }\n",
       "</style>\n",
       "<table border=\"1\" class=\"dataframe\">\n",
       "  <thead>\n",
       "    <tr style=\"text-align: right;\">\n",
       "      <th></th>\n",
       "      <th>iyear</th>\n",
       "      <th>imonth</th>\n",
       "      <th>iday</th>\n",
       "      <th>country</th>\n",
       "      <th>country_txt</th>\n",
       "    </tr>\n",
       "  </thead>\n",
       "  <tbody>\n",
       "    <tr>\n",
       "      <th>5768</th>\n",
       "      <td>1978</td>\n",
       "      <td>1</td>\n",
       "      <td>8</td>\n",
       "      <td>359</td>\n",
       "      <td>Soviet Union</td>\n",
       "    </tr>\n",
       "    <tr>\n",
       "      <th>38018</th>\n",
       "      <td>1989</td>\n",
       "      <td>4</td>\n",
       "      <td>20</td>\n",
       "      <td>359</td>\n",
       "      <td>Soviet Union</td>\n",
       "    </tr>\n",
       "    <tr>\n",
       "      <th>38019</th>\n",
       "      <td>1989</td>\n",
       "      <td>4</td>\n",
       "      <td>20</td>\n",
       "      <td>359</td>\n",
       "      <td>Soviet Union</td>\n",
       "    </tr>\n",
       "    <tr>\n",
       "      <th>39006</th>\n",
       "      <td>1989</td>\n",
       "      <td>7</td>\n",
       "      <td>26</td>\n",
       "      <td>359</td>\n",
       "      <td>Soviet Union</td>\n",
       "    </tr>\n",
       "    <tr>\n",
       "      <th>39007</th>\n",
       "      <td>1989</td>\n",
       "      <td>7</td>\n",
       "      <td>26</td>\n",
       "      <td>359</td>\n",
       "      <td>Soviet Union</td>\n",
       "    </tr>\n",
       "  </tbody>\n",
       "</table>\n",
       "</div>"
      ],
      "text/plain": [
       "       iyear  imonth  iday  country   country_txt\n",
       "5768    1978       1     8      359  Soviet Union\n",
       "38018   1989       4    20      359  Soviet Union\n",
       "38019   1989       4    20      359  Soviet Union\n",
       "39006   1989       7    26      359  Soviet Union\n",
       "39007   1989       7    26      359  Soviet Union"
      ]
     },
     "execution_count": 644,
     "metadata": {},
     "output_type": "execute_result"
    }
   ],
   "source": [
    "df_russia = data[ (data[\"country_txt\"] == \"Russia\") | (data[\"country_txt\"] == \"Soviet Union\")  ] \n",
    "print(\"Data for Russia shape: \" , df_russia.shape)\n",
    "data.head()\n",
    "df_russia.head()"
   ]
  },
  {
   "cell_type": "code",
   "execution_count": 645,
   "metadata": {
    "scrolled": true
   },
   "outputs": [
    {
     "name": "stdout",
     "output_type": "stream",
     "text": [
      "Preprocess data for Russia, with days from start, shape:  (2267, 6)\n"
     ]
    }
   ],
   "source": [
    "df_size = df_russia.shape[0];\n",
    "df_russia = compute_and_add_days(df_russia, \"days from start\")\n",
    "print(\"Preprocess data for Russia, with days from start, shape: \" , df_russia.shape)"
   ]
  },
  {
   "cell_type": "code",
   "execution_count": 908,
   "metadata": {},
   "outputs": [
    {
     "name": "stdout",
     "output_type": "stream",
     "text": [
      "[4120    0   97 ...   32    6    1]\n",
      "Reduce data for Russia with days from start, shape:  240\n",
      "time intervals = \n",
      "[4120   97   30   22   18   92   45   34   19   16   28   14   33   17\n",
      "   64  110   25   21   12   39   25   24   25   12   23   61   31   54\n",
      "   11   20   37   13   73   21   70   19   14  451   40   25   22   40\n",
      "   47   19   60   20   13   67   13   55   28   35   35   24   34   39\n",
      "   24   36   48   79   17   12   24   29   34   59   18   35   44   25\n",
      "   46   45   12   35   20   64   43   40   31   35   44   45   18   12\n",
      "   40   31   44   11   39   26   55   19   31   50   21   28   80   49\n",
      "   15   36   20   40   14   35   35   26   35  160   27   57   38   29\n",
      "   13   57   14   97   45   90   13   16   76   30   45   25   77   60\n",
      "   21   30   15   49   75   12   17   38   14   75   13   12   68   20\n",
      "   41   43   46   25   40   13   33   35   16   54   31  125   75   26\n",
      "   23   46   46   19   23   34   56   15   38   80   60   12   46   29\n",
      "   15   28   34   35   77   14   26   29   14  198   33   53  237   30\n",
      "   93   82  493  154   23   18   20  137   76   62   14   51   18   36\n",
      "   45  268   34   19   60   23   35   19   16   12   80   82   19  114\n",
      "   31   13   20   29   20   19   15   28   48   14   24   61   12   64\n",
      "   47   84   24   19   47   35   21   12   29   56   43   20   17   14\n",
      "   32]\n",
      "requests = \n",
      "[  1   2   2   1   1   1   3   1   6   2   1   2   4   2  10   5   1   2\n",
      "   3   2   4   2   7   1   5   4   1   1   2   1   3   1   2   2   1   1\n",
      "   1   7   2   1   5   7  11   2   3   3   1  11   1   5   2   2   2   2\n",
      "   1   4   4   6   7  18   2   1   5   4   4  19   2   1   8   4  10   7\n",
      "   1   8   2  26   9   1   2  12   2   1   2   1   2   1   6   2   5   2\n",
      "   1   1   2  10   4   4  21   5   2   1   3   5   1   4   3   6  22  89\n",
      "   9  21  14   8   1   7   1  61  16  36   1   1  17  11  14   1  11  20\n",
      "   2  11   1  14  15   2   1   1   3   7   1   1   6   2   6   9  13   1\n",
      "   3   1   4   1   2  12   4  32   9   2   4   1  15   1   2  11  17   1\n",
      "   1   2   7   1   1   4   3   2   9   1  23   2   7   2   3  95  17  44\n",
      "  99   7  46  37 346  54   7   3   1  58  50  25   3  14   7   5  12 119\n",
      "   1   1   9   5   6   5   2   1   5   4   3   1   2   2   1   2   3   1\n",
      "   1   4   1   1   4  14   3   7   9  13   4   1   1   8   2   1   3   1\n",
      "   7   3   1   1   1   3]\n"
     ]
    }
   ],
   "source": [
    "step = 10;\n",
    "time_proc = (df_russia.iloc[:,5:].values).reshape(2267)\n",
    "time_proc = np.diff(time_proc)\n",
    "print(time_proc)\n",
    "time_arr, requests = make_reduce(df_russia, first_method_reduce, step, \"Russia\")"
   ]
  },
  {
   "cell_type": "code",
   "execution_count": 923,
   "metadata": {},
   "outputs": [
    {
     "name": "stdout",
     "output_type": "stream",
     "text": [
      "Wallis-Mur criterion\n",
      "Time initial for Russia is dependet 5.7  >  1.96\n",
      "Time diffs for Russia is undependet 1.08  <=  1.96\n",
      "Requests for Russia is undependet 1.33  <=  1.96\n"
     ]
    }
   ],
   "source": [
    "alfa = 0.05\n",
    "print(\"Wallis-Mur criterion\")\n",
    "Wallis_Murr_crit(time_proc, alfa, \"Time initial for Russia\")\n",
    "Wallis_Murr_crit(time_arr, alfa, \"Time diffs for Russia\")\n",
    "Wallis_Murr_crit(requests, alfa, \"Requests for Russia\")    "
   ]
  },
  {
   "cell_type": "code",
   "execution_count": 802,
   "metadata": {},
   "outputs": [],
   "source": [
    "def Poisson_param(param):\n",
    "    def Poisson(k):\n",
    "        fact = 1\n",
    "        if k < 1:\n",
    "            return 0\n",
    "        else:\n",
    "            for i in range(1, k):\n",
    "                fact *= param/i\n",
    "            return np.exp(-param) * fact\n",
    "    return Poisson\n",
    "\n",
    "def geom_param(param):\n",
    "    def geom(k):\n",
    "        if k < 1:\n",
    "            return 0\n",
    "        else:\n",
    "            return np.power((1-param), k-1) * param\n",
    "    return geom\n",
    "\n",
    "def mix_distrib_param(p, func_1, func_2):\n",
    "    def mix_distrib(k):\n",
    "        return p*func_1(k) + (1-p)*func_2(k)\n",
    "    return mix_distrib\n",
    "\n",
    "from scipy.optimize import fsolve\n",
    "\n",
    "def GMM_Poisson(sample):\n",
    "    a1 = np.average(sample)\n",
    "    return a1 - 1\n",
    "\n",
    "def GMM_geom(sample):\n",
    "    a1 = np.average(sample)\n",
    "    return 1/a1\n",
    "\n",
    "def GMM_mix_distrib(sample, a2, a3):\n",
    "    a1 = np.average(sample)\n",
    "    equations = lambda x: (x*a2 + (1 - x)*a3 - a1)\n",
    "    return fsolve(equations, 0.9)\n",
    "\n",
    "def process_sample(sample, delimiter, missed_vals):\n",
    "    sample1 = (np.sort(sample))[0:len(sample) - missed_vals]\n",
    "    ret1 = sample1[sample1 <= delimiter]\n",
    "    ret2 = sample1[sample1 > delimiter]\n",
    "    return ret1, ret2"
   ]
  },
  {
   "cell_type": "code",
   "execution_count": 956,
   "metadata": {},
   "outputs": [
    {
     "name": "stdout",
     "output_type": "stream",
     "text": [
      "parameters p, a1, a2 =  [ 0.915  3.872 57.417]\n",
      "Chi2 degree:  11\n",
      "Chi2 statistic:          4.79\n",
      "Chi2 treshold val right: 19.68\n"
     ]
    },
    {
     "data": {
      "image/png": "[encoded data removed]",
      "text/plain": [
       "<Figure size 720x360 with 1 Axes>"
      ]
     },
     "metadata": {
      "needs_background": "light"
     },
     "output_type": "display_data"
    }
   ],
   "source": [
    "delimiter = 30\n",
    "missed_vals = 2\n",
    "\n",
    "sample1, sample2 = process_sample(requests, delimiter, missed_vals)\n",
    "a1 = np.average(sample1)\n",
    "a2 = np.average(sample2)\n",
    "param1 = GMM_Poisson(sample1)\n",
    "\n",
    "param2 = GMM_Poisson(sample2)\n",
    "\n",
    "P1 = Poisson_param(param1)\n",
    "P2 = Poisson_param(param2)\n",
    "param3 = GMM_mix_distrib(requests, a1, a2)\n",
    "print(\"parameters p, a1, a2 = \", np.around([param3[0], param1, param2], 3))\n",
    "Mixed = mix_distrib_param(param3, P1, P2)\n",
    "\n",
    "nrow = 1\n",
    "fig, (ax1) = plt.subplots(nrows=nrow, figsize=(10,5*nrow))\n",
    "plot_hist(requests, 80, Mixed, ax1, \"$requests$ $Russia$\", 30)\n",
    "\n",
    "alfa = 0.05\n",
    "r = 15\n",
    "Chi_2_crit(requests, r, Mixed, alfa, 3)"
   ]
  },
  {
   "cell_type": "code",
   "execution_count": 960,
   "metadata": {},
   "outputs": [
    {
     "name": "stdout",
     "output_type": "stream",
     "text": [
      "parameters p, a1, a2 =  [ 0.915  0.205 57.417]\n",
      "Chi2 degree:  11\n",
      "Chi2 statistic:          0.54\n",
      "Chi2 treshold val right: 19.68\n"
     ]
    },
    {
     "data": {
      "image/png": "[encoded data removed]",
      "text/plain": [
       "<Figure size 720x360 with 1 Axes>"
      ]
     },
     "metadata": {
      "needs_background": "light"
     },
     "output_type": "display_data"
    }
   ],
   "source": [
    "delimiter = 30\n",
    "missed_vals = 2\n",
    "\n",
    "sample1, sample2 = process_sample(requests, delimiter, missed_vals)\n",
    "a1 = np.average(sample1)\n",
    "a2 = np.average(sample2)\n",
    "param1 = GMM_geom(sample1)\n",
    "\n",
    "param2 = GMM_Poisson(sample2)\n",
    "\n",
    "P1 = geom_param(param1)\n",
    "P2 = Poisson_param(param2)\n",
    "param3 = GMM_mix_distrib(requests, a1, a2)\n",
    "print(\"parameters p, a1, a2 = \", np.around([param3[0], param1, param2], 3))\n",
    "Mixed = mix_distrib_param(param3, P1, P2)\n",
    "\n",
    "nrow = 1\n",
    "fig, (ax1) = plt.subplots(nrows=nrow, figsize=(10,5*nrow))\n",
    "plot_hist(requests, 80, Mixed, ax1, \"$requests$ $Russia$\", 30)\n",
    "\n",
    "alfa = 0.05\n",
    "r = 15\n",
    "Chi_2_crit(requests, r, Mixed, alfa, 3)\n"
   ]
  },
  {
   "cell_type": "code",
   "execution_count": 981,
   "metadata": {},
   "outputs": [],
   "source": [
    "def shift_exp_param(param):\n",
    "    h, sigm = param\n",
    "    def shift_exp(t):\n",
    "        if t <= h:\n",
    "            return 0\n",
    "        else:\n",
    "            return 1/sigm * np.exp((h - t) / sigm)\n",
    "    def F(t):\n",
    "        if t <= h:\n",
    "            return 0\n",
    "        else:\n",
    "            return 1 - np.exp((h - t) / sigm)\n",
    "    return shift_exp, F\n",
    "\n",
    "from scipy.optimize import fsolve\n",
    "\n",
    "def GMM_shift_exp(sample, missed_vals):\n",
    "    tmp = np.sort(time_arr1)[0:len(time_arr1)-missed_vals]\n",
    "    a1 = np.average(tmp)\n",
    "    a2 = np.std(tmp)\n",
    "    return [ a1 - a2, a2]\n",
    "\n",
    "def divide_time1(time, r, func):\n",
    "    tmp1 = np.bincount(time)\n",
    "    interv = len(time)//r\n",
    "    intervp = 1/r\n",
    "    m = np.zeros(r)\n",
    "    p = np.zeros(r + 1)\n",
    "    bounds = np.zeros(r + 1)\n",
    "    j = 0\n",
    "    h = 0.25\n",
    "    interval_sum = 0\n",
    "    for i in range(1, r + 1):\n",
    "        while (p[i] < intervp) and (func(interval_sum) < func(max(time))):\n",
    "            interval_sum +=h\n",
    "            p[i] = func(interval_sum) - func(bounds[i - 1])   \n",
    "        bounds[i] = interval_sum\n",
    "        tmp = time[time < bounds[i]]\n",
    "        m[i - 1] = len(tmp[tmp >= bounds[i - 1]])\n",
    "    p[r] = 1 -sum(p[:r])\n",
    "    p = p[1:]\n",
    "    return m, p\n",
    "\n",
    "def Chi_2_crit1(sample, r, P, alfa, num_param):\n",
    "    m, p = divide_time1(sample, r, P)\n",
    "    \n",
    "    chi_stat = Chi_squre_number(m, p)\n",
    "    chi_2 = chi2(r - 1 - num_param)\n",
    "    print(\"Chi2 degree: \", r - 1 - num_param)\n",
    "    chi_2_tres1 = chi_2.ppf(1 - alfa)\n",
    "    print(\"Chi2 statistic:         \", round(chi_stat, 2))\n",
    "    print(\"Chi2 treshold val right:\", round(chi_2_tres1, 2))"
   ]
  },
  {
   "cell_type": "code",
   "execution_count": 986,
   "metadata": {},
   "outputs": [
    {
     "name": "stdout",
     "output_type": "stream",
     "text": [
      "parameters h, sigma =  [11, 25.600613184084786]\n",
      "Chi2 degree:  9\n",
      "Chi2 statistic:          0.09\n",
      "Chi2 treshold val right: 16.92\n"
     ]
    },
    {
     "data": {
      "image/png": "[encoded data removed]",
      "text/plain": [
       "<Figure size 720x360 with 1 Axes>"
      ]
     },
     "metadata": {
      "needs_background": "light"
     },
     "output_type": "display_data"
    }
   ],
   "source": [
    "missed_vals = 2\n",
    "param = GMM_shift_exp(time_arr, missed_vals)\n",
    "P , F = shift_exp_param([min(time_arr), param[1]])\n",
    "print(\"parameters h, sigma = \", [min(time_arr), param[1]])\n",
    "\n",
    "nrow = 1\n",
    "fig, (ax1) = plt.subplots(nrows=nrow, figsize=(10,5*nrow))\n",
    "plot_hist(time_arr, 300, P, ax1, \"$time$ $Russia$\", 50)\n",
    "\n",
    "alfa = 0.05\n",
    "r = 12\n",
    "Chi_2_crit1(time_arr, r, F, alfa, 2)\n"
   ]
  },
  {
   "cell_type": "code",
   "execution_count": 919,
   "metadata": {
    "scrolled": true
   },
   "outputs": [
    {
     "name": "stdout",
     "output_type": "stream",
     "text": [
      "Data for USA shape:  (2836, 5)\n"
     ]
    }
   ],
   "source": [
    "df_usa = data[(data[\"country_txt\"] == \"United States\")] \n",
    "print(\"Data for USA shape: \" , df_usa.shape)"
   ]
  },
  {
   "cell_type": "code",
   "execution_count": 920,
   "metadata": {
    "scrolled": true
   },
   "outputs": [
    {
     "name": "stdout",
     "output_type": "stream",
     "text": [
      "Preprocess data for USA, with days from start, shape:  (2803, 6)\n"
     ]
    },
    {
     "data": {
      "text/html": [
       "<div>\n",
       "<style scoped>\n",
       "    .dataframe tbody tr th:only-of-type {\n",
       "        vertical-align: middle;\n",
       "    }\n",
       "\n",
       "    .dataframe tbody tr th {\n",
       "        vertical-align: top;\n",
       "    }\n",
       "\n",
       "    .dataframe thead th {\n",
       "        text-align: right;\n",
       "    }\n",
       "</style>\n",
       "<table border=\"1\" class=\"dataframe\">\n",
       "  <thead>\n",
       "    <tr style=\"text-align: right;\">\n",
       "      <th></th>\n",
       "      <th>iyear</th>\n",
       "      <th>imonth</th>\n",
       "      <th>iday</th>\n",
       "      <th>country</th>\n",
       "      <th>country_txt</th>\n",
       "      <th>days from start</th>\n",
       "    </tr>\n",
       "  </thead>\n",
       "  <tbody>\n",
       "    <tr>\n",
       "      <th>0</th>\n",
       "      <td>1970</td>\n",
       "      <td>1</td>\n",
       "      <td>1</td>\n",
       "      <td>217</td>\n",
       "      <td>United States</td>\n",
       "      <td>0</td>\n",
       "    </tr>\n",
       "    <tr>\n",
       "      <th>1</th>\n",
       "      <td>1970</td>\n",
       "      <td>1</td>\n",
       "      <td>1</td>\n",
       "      <td>217</td>\n",
       "      <td>United States</td>\n",
       "      <td>0</td>\n",
       "    </tr>\n",
       "    <tr>\n",
       "      <th>2</th>\n",
       "      <td>1970</td>\n",
       "      <td>1</td>\n",
       "      <td>2</td>\n",
       "      <td>217</td>\n",
       "      <td>United States</td>\n",
       "      <td>1</td>\n",
       "    </tr>\n",
       "    <tr>\n",
       "      <th>3</th>\n",
       "      <td>1970</td>\n",
       "      <td>1</td>\n",
       "      <td>2</td>\n",
       "      <td>217</td>\n",
       "      <td>United States</td>\n",
       "      <td>1</td>\n",
       "    </tr>\n",
       "    <tr>\n",
       "      <th>4</th>\n",
       "      <td>1970</td>\n",
       "      <td>1</td>\n",
       "      <td>3</td>\n",
       "      <td>217</td>\n",
       "      <td>United States</td>\n",
       "      <td>2</td>\n",
       "    </tr>\n",
       "  </tbody>\n",
       "</table>\n",
       "</div>"
      ],
      "text/plain": [
       "   iyear  imonth  iday  country    country_txt  days from start\n",
       "0   1970       1     1      217  United States                0\n",
       "1   1970       1     1      217  United States                0\n",
       "2   1970       1     2      217  United States                1\n",
       "3   1970       1     2      217  United States                1\n",
       "4   1970       1     3      217  United States                2"
      ]
     },
     "execution_count": 920,
     "metadata": {},
     "output_type": "execute_result"
    }
   ],
   "source": [
    "df_usa = compute_and_add_days(df_usa, \"days from start\")\n",
    "print(\"Preprocess data for USA, with days from start, shape: \" , df_usa.shape)\n",
    "df_usa.head()"
   ]
  },
  {
   "cell_type": "code",
   "execution_count": 924,
   "metadata": {},
   "outputs": [
    {
     "name": "stdout",
     "output_type": "stream",
     "text": [
      "[ 0  1  0 ...  4 11  0]\n",
      "Reduce data for USA with days from start, shape:  465\n",
      "time intervals = \n",
      "[587  81  66  42  24  18  20  21  36  47  17  28  26  15  47  38  22  18\n",
      "  28  14  56  15  11  17  40  22  30  38  64  27  11  14  11  12  33  68\n",
      "  39  28  28  36 225  53  83 119  68  20  33  20  24  48  38  33  16  30\n",
      "  83  74  69  30  49  42  70  28  29  49  19  21  24  42  13  73  23  16\n",
      "  45  75  37  21  24  15  82  41  24  30  31  17  46  37  23  50  20  15\n",
      "  48  51  27  35  40  22  21  79  11  44  28  33  32  11  26  18  40  38\n",
      "  30  19  18  14  25  56  33  35  34  19  14  41  22  46  30  52  42  13\n",
      "  21  27  35  23  16  20  45  19  56  19  37  14  32  24  26  30  30  18\n",
      "  11  20  35  30  21  28  66  63  42  14  15  27  24  35  26  14  13  21\n",
      "  69  30  24  55  15  24  14  49  31  18  21  33  18  38  27  50  45  23\n",
      "  25  18  14  45  34  16  61  35  26  90  25  14  11  36  17  40  38  24\n",
      "  27  18  23  36  23  17  32  31  17  19  19  62  67  13  21  29  16  14\n",
      "  22  35  19  35  34  72  34  24  16  19  22  25  62  15  41  28  56  26\n",
      "  21  14 378  19  21  14  29  49  11  51  48  30  57  26  22  22  61  42\n",
      "  18  56  11  33  21  21  38 116  11  17  21  48  40  48  25  15  19  17\n",
      "  14  12  17  14  23  25  24  27  59  99  12  21  15  15  27  28  31  39\n",
      "  36  12  18  43  18  13  12  84  77  49  48  13  31  53  15  14  59  26\n",
      "  41  16  56  20  20  16  17  49  44  38  12  35  38  38  36  16  11  41\n",
      "  12  15  31  24  95  21  57  40  31  31  38  22  19  12  54  36  19  42\n",
      "  62  21  68  21  28  26  28  82  59  19  55  18 160  18  42  35  16  14\n",
      "  22  60 139  30  28  45 119  12  16  45 188  38  14  46 118 108  27  35\n",
      "  15  34  19  41 103 122  84  34  52  11  62  50  54  72  36  32  20  36\n",
      "  48  28  51  47  60  13 143  16  30  51  91  49  29  16  32  56  61  48\n",
      "  21  18  49  35  66  14  14  12  30  29 137  25  15  26  33  47  31  22\n",
      "  20  12  19  25  19  35  27  11  44  45  28  30  21  26  32  55  47  48\n",
      "  22  34  40 127  15  40  51  43  43  77  38  41  46  15]\n",
      "requests = \n",
      "[638  52  20  20   1   2   2   1  12   2   1   5   6   3   2  10   6   2\n",
      "   6   3   8   1   1   1   2   3   3   8  12   8   1   4   1   1  10  20\n",
      "   9   3   6   9  99  12  35  51  23   7  22   2   2  10   2   9   2  10\n",
      "  39  16  29  19   7  12  17   4  12  12   3   5   1  16   1  10   4   2\n",
      "  11  16   3   1   4   1  27  10   3   6   5   1   8  12   4  10   1   1\n",
      "   9   6   4   6  10   6   2  20   1   8   3   4  10   1   2   9  16  10\n",
      "   4   4   2   1   3  12   6   4   2   3   2   3   2  10   2   7   3   1\n",
      "   3   4   7   6   1   2   9   1  15   1   4   5   5   1   3   1   2   2\n",
      "   1   2   1   5   1   4  13   8   5   1   2   3   2   1   1   1   2   4\n",
      "  20   3   1   4   2   2   8   1   3   2   3   2   1   3   3   2   2   1\n",
      "   2   1   1   1   5   1   4   3   1  14   3   3   1   4   4   3   1   1\n",
      "   6   2   3   1   1   5   7   2   1   1   1   6   1   1   4   4   4   2\n",
      "   2   2   2   2   1   3   1   2   2   1   4   1   4   1   2   4   3   4\n",
      "   2   2   1   2   4   1   3   2   1   3   7   4  15   8   7   5  13   8\n",
      "   2   5   1   7   1   2   5  11   2   1   1   2   7   6   1   3   2   3\n",
      "   1   7   3   3   4   5   2   5   2   3   1   1   2   1   1   2   1   5\n",
      "   1   1   4   4   1   2   2   7   1  12   2   3   8   6   1   1  13   8\n",
      "   3   1   6   1   2   1   1   1   2   1   1   9   4   2   4   1   2   3\n",
      "   1   1   1   6  15   1   1   1  20   2   2   2   1   1   1   1   1   1\n",
      "  12   1   4   1   4   5   2   2   2   1   1   1   2   1   4   4   2   1\n",
      "   3   1   2   3   1   1   1   1   1   1   1   3   1   1   1   2   4   2\n",
      "   2   2   1   1   4   2   1   5   1   1   1   1   1   4   3   1   1   1\n",
      "   1   2   1   4   1   1   1   1   1   1   8   1   3   1   1   4   1   1\n",
      "   1   1   1   7   3   1   1   1   1   2   1   2   3   2   6   1   1   2\n",
      "   1   2   2   5   2   1   4   1   1   1   5   8   1   2   2  11   4   3\n",
      "   1   2   8  40   1   6  10   9   8  17   4   7   6   2   2]\n"
     ]
    }
   ],
   "source": [
    "step = 10;\n",
    "time_proc1 = (df_usa.iloc[:,5:].values).reshape(2803)\n",
    "time_proc1 = np.diff(time_proc1)\n",
    "print(time_proc1)\n",
    "time_arr1, requests1 = make_reduce(df_usa, first_method_reduce, step, \"USA\")"
   ]
  },
  {
   "cell_type": "code",
   "execution_count": 925,
   "metadata": {},
   "outputs": [
    {
     "name": "stdout",
     "output_type": "stream",
     "text": [
      "Wallis-Mur criterion\n",
      "Time initial for USA is dependet 10.11  >  1.96\n",
      "Time diffs for USA is dependet 3.31  >  1.96\n",
      "Requests for USA is dependet 5.25  >  1.96\n"
     ]
    }
   ],
   "source": [
    "alfa = 0.05\n",
    "print(\"Wallis-Mur criterion\")\n",
    "Wallis_Murr_crit(time_proc1, alfa, \"Time initial for USA\")\n",
    "Wallis_Murr_crit(time_arr1, alfa, \"Time diffs for USA\")\n",
    "Wallis_Murr_crit(requests1, alfa, \"Requests for USA\")"
   ]
  },
  {
   "cell_type": "code",
   "execution_count": 974,
   "metadata": {},
   "outputs": [
    {
     "name": "stdout",
     "output_type": "stream",
     "text": [
      "parameters p, a1, a2 =  [  0.959   0.248 135.286]\n",
      "Chi2 degree:  11\n",
      "Chi2 statistic:          1.27\n",
      "Chi2 treshold val right: 19.68\n"
     ]
    },
    {
     "data": {
      "image/png": "[encoded data removed]",
      "text/plain": [
       "<Figure size 720x360 with 1 Axes>"
      ]
     },
     "metadata": {
      "needs_background": "light"
     },
     "output_type": "display_data"
    }
   ],
   "source": [
    "delimiter = 30\n",
    "missed_vals = 0\n",
    "\n",
    "sample1, sample2 = process_sample(requests1, delimiter, missed_vals)\n",
    "a1 = np.average(sample1)\n",
    "a2 = np.average(sample2)\n",
    "param1 = GMM_geom(sample1)\n",
    "\n",
    "param2 = GMM_Poisson(sample2)\n",
    "\n",
    "P1 = geom_param(param1)\n",
    "P2 = Poisson_param(param2)\n",
    "param3 = GMM_mix_distrib(requests, a1, a2)\n",
    "print(\"parameters p, a1, a2 = \", np.around([param3[0], param1, param2], 3))\n",
    "Mixed = mix_distrib_param(param3[0], P1, P2)\n",
    "\n",
    "nrow = 1\n",
    "fig, (ax1) = plt.subplots(nrows=nrow, figsize=(10,5*nrow))\n",
    "plot_hist(requests1, 80, Mixed, ax1, \"$requests$ $USA$\", 30)\n",
    "\n",
    "alfa = 0.05\n",
    "r = 15\n",
    "Chi_2_crit(requests1, r, Mixed, alfa, 3)\n"
   ]
  },
  {
   "cell_type": "code",
   "execution_count": 991,
   "metadata": {},
   "outputs": [
    {
     "name": "stdout",
     "output_type": "stream",
     "text": [
      "parameters h, sigma =  [11, 25.600613184084786]\n",
      "Chi2 degree:  9\n",
      "Chi2 statistic:          0.07\n",
      "Chi2 treshold val right: 16.92\n"
     ]
    },
    {
     "data": {
      "image/png": "[encoded data removed]",
      "text/plain": [
       "<Figure size 720x360 with 1 Axes>"
      ]
     },
     "metadata": {
      "needs_background": "light"
     },
     "output_type": "display_data"
    }
   ],
   "source": [
    "missed_vals = 2\n",
    "param = GMM_shift_exp(time_arr1, missed_vals)\n",
    "P , F = shift_exp_param([min(time_arr1), param[1]])\n",
    "print(\"parameters h, sigma = \", [min(time_arr1), param[1]])\n",
    "\n",
    "nrow = 1\n",
    "fig, (ax1) = plt.subplots(nrows=nrow, figsize=(10,5*nrow))\n",
    "plot_hist(time_arr1, 300, P, ax1, \"$time$ $USA$\", 40)\n",
    "\n",
    "alfa = 0.05\n",
    "r = 12\n",
    "Chi_2_crit1(time_arr1, r, F, alfa, 2)"
   ]
  }
 ],
 "metadata": {
  "kernelspec": {
   "display_name": "Python 3",
   "language": "python",
   "name": "python3"
  },
  "language_info": {
   "codemirror_mode": {
    "name": "ipython",
    "version": 3
   },
   "file_extension": ".py",
   "mimetype": "text/x-python",
   "name": "python",
   "nbconvert_exporter": "python",
   "pygments_lexer": "ipython3",
   "version": "3.7.3"
  }
 },
 "nbformat": 4,
 "nbformat_minor": 2
}
