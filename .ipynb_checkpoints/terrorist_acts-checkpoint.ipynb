{
 "cells": [
  {
   "cell_type": "code",
   "execution_count": 284,
   "metadata": {},
   "outputs": [],
   "source": [
    "import numpy as np\n",
    "import pandas as pd\n",
    "import chardet\n",
    "from datetime import date\n",
    "from scipy.stats import norm\n",
    "from scipy.stats import chi2\n",
    "import matplotlib.pyplot as plt"
   ]
  },
  {
   "cell_type": "markdown",
   "metadata": {},
   "source": [
    "## 1. Чтение, обработка данных"
   ]
  },
  {
   "cell_type": "code",
   "execution_count": 9,
   "metadata": {},
   "outputs": [
    {
     "name": "stdout",
     "output_type": "stream",
     "text": [
      "Input data shape:  (181691, 135)\n"
     ]
    }
   ],
   "source": [
    "data = pd.read_csv('C:/Users/User/Desktop/Study/Scientific_work/globalterrorismdb_0718dist.csv', encoding='ISO-8859-1', low_memory=False)\n",
    "print(\"Input data shape: \" , data.shape)"
   ]
  },
  {
   "cell_type": "code",
   "execution_count": 10,
   "metadata": {},
   "outputs": [
    {
     "name": "stdout",
     "output_type": "stream",
     "text": [
      "Data for Russia shape:  (2272, 5)\n"
     ]
    }
   ],
   "source": [
    "data = data.drop(data.iloc[:, 9:],  axis=1)\n",
    "data = data.drop(data.columns[[0, 4, 5, 6]], axis = 1)\n",
    "#data[\"country_txt\"] == \"Russia\") |\n",
    "df_russia = data[ (data[\"country_txt\"] == \"Russia\") | (data[\"country_txt\"] == \"Soviet Union\")  ] \n",
    "print(\"Data for Russia shape: \" , df_russia.shape)"
   ]
  },
  {
   "cell_type": "code",
   "execution_count": 362,
   "metadata": {},
   "outputs": [],
   "source": [
    "def compute_and_add_days(df, name):\n",
    "    \n",
    "    n_cols = df.shape[1]\n",
    "    n_rows = df.shape[0]\n",
    "    ret = df;\n",
    "    uncorrects = [[] , 0];\n",
    "    row_days = []\n",
    "    row0 = df.loc[0];\n",
    "    start = date(row0[0], row0[1], row0[2])\n",
    "    \n",
    "    for i in range(0, n_rows):   \n",
    "        row = ret.loc[i]\n",
    "        #print(\"process \", i)\n",
    "        if ((row[2] < 1) or (row[2] > 31)): #or (row[1] < 1) or (row[1] > 12)):\n",
    "            #uncorrects[0].append(row)\n",
    "            #uncorrects[1] += 1\n",
    "            ret = ret.drop(i, axis = 0)\n",
    "            #print(\" drop \" , i)\n",
    "            continue \n",
    "            \n",
    "        curr = date(row[0], row[1], row[2])\n",
    "        row_days.append((curr - start).days)\n",
    "        \n",
    "    ret[name] = row_days\n",
    "    ret = ret.reset_index(drop = True)\n",
    "    \n",
    "    ret = ret.sort_values(by=[name])\n",
    "    return ret"
   ]
  },
  {
   "cell_type": "code",
   "execution_count": 363,
   "metadata": {
    "scrolled": true
   },
   "outputs": [
    {
     "name": "stdout",
     "output_type": "stream",
     "text": [
      "Preprocess data for Russia, with days from start, shape:  (2267, 6)\n"
     ]
    }
   ],
   "source": [
    "df_size = df_russia.shape[0];\n",
    "df_russia = df_russia.reset_index(drop = True)\n",
    "#print(df_russia.iloc[:50])\n",
    "#df_russia = df_russia.drop([0, 1], axis = 0)\n",
    "#print(df_russia.iloc[:10])\n",
    "df_russia = compute_and_add_days(df_russia, \"days from start\")\n",
    "print(\"Preprocess data for Russia, with days from start, shape: \" , df_russia.shape)\n"
   ]
  },
  {
   "cell_type": "markdown",
   "metadata": {},
   "source": [
    "## 2. Разбиение данных на две выборки по времени и по колличеству заявок в промежутках времени"
   ]
  },
  {
   "cell_type": "code",
   "execution_count": 347,
   "metadata": {},
   "outputs": [],
   "source": [
    "def first_method_reduce(df, step):\n",
    "    n_cols = df.shape[1]\n",
    "    n_rows = df.shape[0]\n",
    "    \n",
    "    ret = []\n",
    "    i = 0\n",
    "    while (i <= (n_rows - 2)):\n",
    "        row = [df.loc[i][n_cols - 1], i]\n",
    "        while ((df.loc[i + 1][n_cols - 1] - df.loc[i][n_cols - 1] <= step) and (i < (n_rows - 2))):\n",
    "            i += 1\n",
    "        i += 1\n",
    "        ret.append([row[0], i - row[1]])\n",
    "    ret[-1][1] += 1\n",
    "    ret = np.array(ret)\n",
    "    return (ret)"
   ]
  },
  {
   "cell_type": "code",
   "execution_count": 364,
   "metadata": {},
   "outputs": [
    {
     "name": "stdout",
     "output_type": "stream",
     "text": [
      "Reduce data for Russia, with days from start, shape:  240\n",
      "time intervals = \n",
      "[4120   97   30   22   18   92   45   34   19   16   28   14   33   17\n",
      "   64  110   25   21   12   39   25   24   25   12   23   61   31   54\n",
      "   11   20   37   13   73   21   70   19   14  451   40   25   22   40\n",
      "   47   19   60   20   13   67   13   55   28   35   35   24   34   39\n",
      "   24   36   48   79   17   12   24   29   34   59   18   35   44   25\n",
      "   46   45   12   35   20   64   43   40   31   35   44   45   18   12\n",
      "   40   31   44   11   39   26   55   19   31   50   21   28   80   49\n",
      "   15   36   20   40   14   35   35   26   35  160   27   57   38   29\n",
      "   13   57   14   97   45   90   13   16   76   30   45   25   77   60\n",
      "   21   30   15   49   75   12   17   38   14   75   13   12   68   20\n",
      "   41   43   46   25   40   13   33   35   16   54   31  125   75   26\n",
      "   23   46   46   19   23   34   56   15   38   80   60   12   46   29\n",
      "   15   28   34   35   77   14   26   29   14  198   33   53  237   30\n",
      "   93   82  493  154   23   18   20  137   76   62   14   51   18   36\n",
      "   45  268   34   19   60   23   35   19   16   12   80   82   19  114\n",
      "   31   13   20   29   20   19   15   28   48   14   24   61   12   64\n",
      "   47   84   24   19   47   35   21   12   29   56   43   20   17   14\n",
      "   32]\n",
      "requests = \n",
      "[  1   2   2   1   1   1   3   1   6   2   1   2   4   2  10   5   1   2\n",
      "   3   2   4   2   7   1   5   4   1   1   2   1   3   1   2   2   1   1\n",
      "   1   7   2   1   5   7  11   2   3   3   1  11   1   5   2   2   2   2\n",
      "   1   4   4   6   7  18   2   1   5   4   4  19   2   1   8   4  10   7\n",
      "   1   8   2  26   9   1   2  12   2   1   2   1   2   1   6   2   5   2\n",
      "   1   1   2  10   4   4  21   5   2   1   3   5   1   4   3   6  22  89\n",
      "   9  21  14   8   1   7   1  61  16  36   1   1  17  11  14   1  11  20\n",
      "   2  11   1  14  15   2   1   1   3   7   1   1   6   2   6   9  13   1\n",
      "   3   1   4   1   2  12   4  32   9   2   4   1  15   1   2  11  17   1\n",
      "   1   2   7   1   1   4   3   2   9   1  23   2   7   2   3  95  17  44\n",
      "  99   7  46  37 346  54   7   3   1  58  50  25   3  14   7   5  12 119\n",
      "   1   1   9   5   6   5   2   1   5   4   3   1   2   2   1   2   3   1\n",
      "   1   4   1   1   4  14   3   7   9  13   4   1   1   8   2   1   3   1\n",
      "   7   3   1   1   1   3]\n"
     ]
    }
   ],
   "source": [
    "step = 10;\n",
    "reduce = first_method_reduce(df_russia, step)\n",
    "print(\"Reduce data for Russia, with days from start, shape: \" , len(reduce))\n",
    "time_arr = np.diff(reduce[:,0])\n",
    "requests = reduce[:, 1]\n",
    "print(\"time intervals = \")\n",
    "print(time_arr)\n",
    "print(\"requests = \")\n",
    "print(requests)"
   ]
  },
  {
   "cell_type": "markdown",
   "metadata": {},
   "source": [
    "## 3. Проверка независимости случайных величин в выборках с помощью критерия Валлиса - Мура"
   ]
  },
  {
   "cell_type": "code",
   "execution_count": 337,
   "metadata": {},
   "outputs": [],
   "source": [
    "def num_sign_changes(arr):\n",
    "    i = 0\n",
    "    sign = arr[0]\n",
    "    count = 0\n",
    "    while i < len(arr) - 1:\n",
    "        if arr[i] != 0:\n",
    "            if sign == 0:\n",
    "                sign = arr[i]\n",
    "            elif sign != arr[i]:\n",
    "                count += 1\n",
    "                sign = arr[i]\n",
    "        i +=1\n",
    "    return count\n",
    "\n",
    "def Wallis_Murr_number(sample):\n",
    "    sample_diff = np.diff(sample)\n",
    "    gamma = num_sign_changes(np.sign(sample_diff)) - 2\n",
    "    n = len(sample)\n",
    "    return np.abs((gamma - (2*n - 7)/3)*np.sqrt(90/ (16*n - 29)))"
   ]
  },
  {
   "cell_type": "code",
   "execution_count": 365,
   "metadata": {},
   "outputs": [
    {
     "name": "stdout",
     "output_type": "stream",
     "text": [
      "Time diffs is independent, Wallis-Mur crit:  1.0779867049126253  <=  1.9599639845400545\n",
      "Requests is independent, Wallis-Mur crit:  1.331845579486996  <=  1.9599639845400545\n"
     ]
    }
   ],
   "source": [
    "alfa = 0.05\n",
    "Z1_time = Wallis_Murr_number(time_arr)\n",
    "Z1_req = Wallis_Murr_number(requests)\n",
    "\n",
    "f = stat.norm(0, 1)\n",
    "treshold_val = f.ppf(alfa/2)\n",
    "\n",
    "if (Z1_time <= -treshold_val):\n",
    "    print(\"Time diffs is independent, Wallis-Mur crit: \", Z1_time, \" <= \", -treshold_val)\n",
    "else:\n",
    "    print(\"Time diffs is dependent, Wallis-Mur crit: \", Z1_time, \" > \", -treshold_val)\n",
    "\n",
    "if (Z1_req <= -treshold_val):\n",
    "    print(\"Requests is independent, Wallis-Mur crit: \", Z1_req, \" <= \", -treshold_val)\n",
    "else:\n",
    "    print(\"Requests is dependent, Wallis-Mur crit: \", Z1_req, \" > \", -treshold_val)    "
   ]
  },
  {
   "cell_type": "markdown",
   "metadata": {},
   "source": [
    "## 4. Оценка параметров распределения для выборки событий и критерий хи2"
   ]
  },
  {
   "cell_type": "code",
   "execution_count": 675,
   "metadata": {},
   "outputs": [],
   "source": [
    "def Mix_Poisson_param(param):\n",
    "    p , a1, a2 = param\n",
    "    def Mix_Poisson(k):\n",
    "        fact1 = 1\n",
    "        fact2 = 1\n",
    "        ret = 0\n",
    "        if k==0:\n",
    "            return 0\n",
    "        else:\n",
    "            for i in range(1, k):\n",
    "                fact1 *= a1/i\n",
    "                fact2 *= a2/i\n",
    "            return p*np.exp(-a1) * fact1 + (1-p)*np.exp(-a2)*fact2\n",
    "        #return p*np.exp(-a1)*(a1**k)/np.math.factorial(k) + (1-p)*np.exp(-a2)*(a2**k)/np.math.factorial(k)\n",
    "    return Mix_Poisson\n",
    "\n",
    "from scipy.optimize import fsolve\n",
    "\n",
    "def GMM_mix_Poisson(sample):\n",
    "    tmp = np.bincount(sample)\n",
    "    tmp1 = tmp * np.arange(0, len(tmp))\n",
    "    \n",
    "    a1 = np.average(sample)\n",
    "    #a2 = np.average(sample**2)\n",
    "    #a3 = np.average(sample**3)\n",
    "    sum1 = 0\n",
    "    c = 0\n",
    "    while(sum1 < sum(tmp)//2):\n",
    "        sum1 += tmp[c]\n",
    "        c += 1\n",
    "    a2 = np.sum(tmp1[0:c]) / np.sum(tmp[0:c])\n",
    "    a3 = np.sum(tmp1[c:len(tmp1)]) / np.sum(tmp[c:len(tmp)])\n",
    "    equations1 = lambda x: (x*(a2 + 1) + (1 - x)*(a3 + 1) - a1)\n",
    "    \n",
    "    #equations = lambda x: (x[0]*(x[1] + 1) + (1 - x[0])*(x[2] + 1) - a1,\n",
    "    #                      x[0]*(x[1]**2 + 3*x[1] + 1) + (1 - x[0])*(x[2]**2 + 3*x[2] + 1) - a2,\n",
    "    #                      x[0]*(x[1]**3 + 6*x[1]**2 + 7*x[1] + 1) + (1 - x[0])*(x[2]**3 + 6*x[2]**2 + 7*x[2] + 1) - a3)\n",
    "    \n",
    "    #return fsolve(equations, (0.1, 1, 50))\n",
    "    return [fsolve(equations1, 0.9), a2, a3]"
   ]
  },
  {
   "cell_type": "code",
   "execution_count": 696,
   "metadata": {},
   "outputs": [],
   "source": [
    "def func_sum(inter, func):\n",
    "    sum = 0 \n",
    "    for i in np.arange(inter[0], inter[1] + 1): \n",
    "        sum += func(i)\n",
    "    return sum\n",
    "\n",
    "def divide_requests(req, r, func):\n",
    "    \n",
    "    tmp = np.bincount(requests)\n",
    "    tmp = np.append(tmp, np.zeros(100))\n",
    "    m = np.zeros(8)\n",
    "    p = np.zeros(8)\n",
    "    \n",
    "    m[0] = np.sum(tmp[0:2])\n",
    "    p[0] = func_sum([0,1], func)\n",
    "    \n",
    "    m[1] = np.sum(tmp[2:3])\n",
    "    p[1] = func_sum([2,2], func)\n",
    "    \n",
    "    m[2] = np.sum(tmp[3:4])\n",
    "    p[2] = func_sum([3,3], func)\n",
    "    \n",
    "    m[3] = np.sum(tmp[4:7])\n",
    "    p[3] = func_sum([4,6], func)\n",
    "    \n",
    "    m[4] = np.sum(tmp[7:15])\n",
    "    p[4] = func_sum([7,14], func)\n",
    "    \n",
    "    m[5] = np.sum(tmp[15:21])\n",
    "    p[5] = func_sum([16,20], func)\n",
    "    \n",
    "    m[6] = np.sum(tmp[21:41])\n",
    "    p[6] = func_sum([21,40], func)\n",
    "    \n",
    "    end = (len(tmp) - 1)\n",
    "    m[7] = np.sum(tmp[41:end])\n",
    "    p[7] = 1 - sum(p)#func_sum([41,end], func)\n",
    "    return m, p\n",
    "\n",
    "def Chi_squre_number(m, p):\n",
    "    ret = 0\n",
    "    r = len(m)\n",
    "    n = np.sum(m)\n",
    "    for i in range(0, r):\n",
    "        ret += (m[i] - n*p[i])**2 / n*p[i]\n",
    "    \n",
    "    return ret"
   ]
  },
  {
   "cell_type": "code",
   "execution_count": 698,
   "metadata": {},
   "outputs": [
    {
     "name": "stdout",
     "output_type": "stream",
     "text": [
      "[array([0.59665891]), 1.627906976744186, 18.53153153153153]\n",
      "[67. 43. 19. 38. 44.  9.  9. 11.]\n",
      "[0.11714807 0.19070622 0.15522656 0.12975953 0.05120155 0.17258927\n",
      " 0.1600365  0.02333231]\n",
      "1.0\n",
      "Chi2 statistic, Chi2 treshold val:  2.54 12.59 1.64\n"
     ]
    },
    {
     "data": {
      "image/png": "[encoded data removed]",
      "text/plain": [
       "<Figure size 432x288 with 1 Axes>"
      ]
     },
     "metadata": {
      "needs_background": "light"
     },
     "output_type": "display_data"
    }
   ],
   "source": [
    "alfa = 0.05\n",
    "param = GMM_mix_Poisson(requests)\n",
    "P = Mix_Poisson_param(param)\n",
    "print(param)\n",
    "x = np.arange(0, 50)\n",
    "Fx = []\n",
    "\n",
    "for i in x:\n",
    "    Fx.append(P(i))\n",
    "\n",
    "plt.plot(x, Fx)\n",
    "plt.grid()\n",
    "\n",
    "#y = np.bincount(requests)\n",
    "#print(y)\n",
    "#print(requests)\n",
    "m, p = divide_requests(requests, 10, P)\n",
    "print(m)\n",
    "print(p)\n",
    "print(sum(p))\n",
    "chi_stat_req = Chi_squre_number(m, p)\n",
    "chi_2 = chi2(r - 4)\n",
    "chi_2_tres1 = chi_2.ppf(1 - alfa)\n",
    "chi_2_tres2 = chi_2.ppf(alfa)\n",
    "print(\"Chi2 statistic, Chi2 treshold val: \" , round(chi_stat_req, 2) , round(chi_2_tres1, 2), round(chi_2_tres2, 2))\n"
   ]
  },
  {
   "cell_type": "markdown",
   "metadata": {},
   "source": [
    "## 4. Оценка параметров распределения для выборки событий и критерий хи2"
   ]
  },
  {
   "cell_type": "code",
   "execution_count": null,
   "metadata": {},
   "outputs": [],
   "source": []
  }
 ],
 "metadata": {
  "kernelspec": {
   "display_name": "Python 3",
   "language": "python",
   "name": "python3"
  },
  "language_info": {
   "codemirror_mode": {
    "name": "ipython",
    "version": 3
   },
   "file_extension": ".py",
   "mimetype": "text/x-python",
   "name": "python",
   "nbconvert_exporter": "python",
   "pygments_lexer": "ipython3",
   "version": "3.7.3"
  }
 },
 "nbformat": 4,
 "nbformat_minor": 2
}
